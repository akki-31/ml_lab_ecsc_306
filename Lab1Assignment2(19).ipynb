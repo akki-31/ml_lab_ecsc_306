{
 "cells": [
  {
   "cell_type": "markdown",
   "metadata": {},
   "source": [
    "### Assignment 2 Part1"
   ]
  },
  {
   "cell_type": "code",
   "execution_count": 31,
   "metadata": {},
   "outputs": [
    {
     "name": "stdout",
     "output_type": "stream",
     "text": [
      "Mean of x is : 4.343\n",
      "Mean of y is : 3.05\n",
      "Variance of x is : 7.324141\n",
      "Covariance is : -0.10500000000000204\n",
      "Value of m is : -0.014336152184945926\n",
      "Value of c is : 3.11226190893922\n"
     ]
    }
   ],
   "source": [
    "x = [1.1,4.3,7.4,3.45,2.54,3.3,9.7,6.77,0.65,4.22]\n",
    "y = [3.2,6.66,3.43,0.06,3.44,2.2,3.43,2.32,4.11,1.65]\n",
    "sumofx = sum(x)\n",
    "sumofy = sum(y)\n",
    "\n",
    "#Mean\n",
    "meanx = (sumofx/len(x))\n",
    "meany = (sumofy/len(y))\n",
    "print(\"Mean of x is :\",meanx)\n",
    "print(\"Mean of y is :\",meany)\n",
    "\n",
    "#Variance\n",
    "varofx = sum([(xi - meanx)**2 for xi in x])/len(x)\n",
    "print(\"Variance of x is :\",varofx)\n",
    "\n",
    "#Covariance\n",
    "cov = 0\n",
    "for i in range(0, len(x)):\n",
    "    cov += ((x[i] - meanx)*(y[i] - meany))\n",
    "\n",
    "print(\"Covariance is :\", cov)\n",
    "\n",
    "#Value of m\n",
    "valm = cov/varofx\n",
    "print(\"Value of m is :\",valm)\n",
    "\n",
    "#Value of c\n",
    "valc = (meany - valm * meanx)\n",
    "print(\"Value of c is :\",valc)"
   ]
  },
  {
   "cell_type": "code",
   "execution_count": 63,
   "metadata": {},
   "outputs": [
    {
     "name": "stdout",
     "output_type": "stream",
     "text": [
      "[ 1.10000002  4.30000019  7.4000001   3.45000005  2.53999996  3.29999995\n",
      "  9.69999981  6.76999998  0.64999998  4.21999979]\n",
      "[ 3.20000005  6.65999985  3.43000007  0.06        3.44000006  2.20000005\n",
      "  3.43000007  2.31999993  4.11000013  1.64999998]\n",
      "Mean of x is : 4.343\n",
      "Mean of y is : 3.05\n",
      "Mean of x is : 3.05\n",
      "Variance of  is : 7.32414\n",
      "[-3.24299955 -0.04299927  3.05700064 -0.89299941 -1.8029995  -1.04299951\n",
      "  5.35700035  2.42700052 -3.69299936 -0.12299967]\n",
      "[ 0.1500001   3.6099999   0.38000011 -2.99000001  0.3900001  -0.8499999\n",
      "  0.38000011 -0.73000002  1.06000018 -1.39999998]\n",
      "[-0.48645025 -0.15522735  1.16166055  2.67006826 -0.70317     0.88654947\n",
      "  2.03566074 -1.7717104  -3.91458011  0.17219953]\n",
      "-0.105\n",
      "Covariance is : -0.0105\n",
      "The value of m is : -0.00143361\n",
      "The value of c is : 3.05623\n"
     ]
    }
   ],
   "source": [
    "##USING TENSORFLOW\n",
    "import numpy as np\n",
    "import tensorflow as tf\n",
    "arr1=np.asarray([1.1,4.3,7.4,3.45,2.54,3.3,9.7,6.77,0.65,4.22])\n",
    "arr2=np.asarray([3.2,6.66,3.43,0.06,3.44,2.2,3.43,2.32,4.11,1.65])\n",
    "\n",
    "\n",
    "x = tf.constant(arr1,dtype = tf.float32)\n",
    "y = tf.constant(arr2,dtype = tf.float32)\n",
    "\n",
    "\n",
    "ses=tf.Session()\n",
    "print( ses.run(x))\n",
    "ses=tf.Session()\n",
    "print( ses.run(y))\n",
    "\n",
    "#Mean\n",
    "meanx=tf.reduce_mean(x)\n",
    "with tf.Session() as ses:\n",
    "    ans = ses.run(meanx)\n",
    "    print(\"Mean of x is :\",ans)\n",
    "meany=tf.reduce_mean(y)\n",
    "with tf.Session() as ses:\n",
    "    ans = ses.run(meany)\n",
    "    print(\"Mean of y is :\",ans)\n",
    "    \n",
    "    \n",
    "#Variance\n",
    "mean,var = tf.nn.moments(x, axes=[0])\n",
    "with tf.Session() as ses:\n",
    "    ans1 = ses.run(mean)\n",
    "    ans2=ses.run(var)\n",
    "    print(\"Mean of x is :\",ans)\n",
    "    print(\"Variance of  is :\",ans2)\n",
    "    \n",
    "\n",
    "#Covariance\n",
    "xi=tf.subtract(x,meanx)\n",
    "with tf.Session() as ses:\n",
    "    ans = ses.run(xi)\n",
    "    print(ans)\n",
    "    \n",
    "yi=tf.subtract(y,meany)\n",
    "with tf.Session() as ses:\n",
    "    ans = ses.run(yi)\n",
    "    print(ans)\n",
    "    \n",
    "mult=tf.multiply(xi,yi)\n",
    "with tf.Session() as ses:\n",
    "    ans = ses.run(mult)\n",
    "    print(ans)\n",
    "    \n",
    "    \n",
    "val=tf.reduce_sum(mult)\n",
    "with tf.Session() as ses:\n",
    "    ans = ses.run(val)\n",
    "    print(ans)\n",
    "    \n",
    "lenn=len(arr1)\n",
    "\n",
    "cov=tf.divide(val,lenn)\n",
    "with tf.Session() as ses:\n",
    "    ans = ses.run(cov)\n",
    "    print(\"Covariance is :\",ans)\n",
    "    \n",
    "    \n",
    "#Value of m\n",
    "m=tf.divide(cov,var)\n",
    "with tf.Session() as ses:\n",
    "    ans = ses.run(m)\n",
    "    print(\"The value of m is :\",ans)\n",
    "    \n",
    "    \n",
    "#Value of c\n",
    "a=tf.multiply(m,meanx)\n",
    "c=tf.subtract(meany,a)\n",
    "with tf.Session() as ses:\n",
    "    ans = ses.run(c)\n",
    "    print(\"The value of c is :\",ans)\n"
   ]
  },
  {
   "cell_type": "markdown",
   "metadata": {},
   "source": [
    "### Part 2"
   ]
  },
  {
   "cell_type": "code",
   "execution_count": 65,
   "metadata": {},
   "outputs": [
    {
     "name": "stdout",
     "output_type": "stream",
     "text": [
      "Epoch: 0050 cost= 35.913913727 W= -1.04378 b= -0.239471\n",
      "Epoch: 0100 cost= 28.055017471 W= -0.849139 b= -0.202607\n",
      "Epoch: 0150 cost= 22.050054550 W= -0.679102 b= -0.169871\n",
      "Epoch: 0200 cost= 17.461471558 W= -0.530565 b= -0.140744\n",
      "Epoch: 0250 cost= 13.955011368 W= -0.400821 b= -0.114773\n",
      "Epoch: 0300 cost= 11.275259018 W= -0.287502 b= -0.0915602\n",
      "Epoch: 0350 cost= 9.227122307 W= -0.188541 b= -0.0707595\n",
      "Epoch: 0400 cost= 7.661532402 W= -0.102128 b= -0.0520675\n",
      "Epoch: 0450 cost= 6.464608192 W= -0.0266843 b= -0.0352195\n",
      "Epoch: 0500 cost= 5.549342155 W= 0.039173 b= -0.0199839\n",
      "Epoch: 0550 cost= 4.849264145 W= 0.096651 b= -0.00615831\n",
      "Epoch: 0600 cost= 4.313593864 W= 0.146805 b= 0.00643409\n",
      "Epoch: 0650 cost= 3.903532505 W= 0.190558 b= 0.017948\n",
      "Epoch: 0700 cost= 3.589437962 W= 0.228715 b= 0.0285184\n",
      "Epoch: 0750 cost= 3.348665714 W= 0.261982 b= 0.0382636\n",
      "Epoch: 0800 cost= 3.163916111 W= 0.290975 b= 0.0472868\n",
      "Epoch: 0850 cost= 3.021969318 W= 0.316232 b= 0.0556782\n",
      "Epoch: 0900 cost= 2.912728786 W= 0.338223 b= 0.0635167\n",
      "Epoch: 0950 cost= 2.828475714 W= 0.357361 b= 0.0708713\n",
      "Epoch: 1000 cost= 2.763319254 W= 0.374004 b= 0.0778023\n",
      "Optimization Finished!\n",
      "Training cost= 2.76332 W= 0.374004 b= 0.0778023 \n",
      "\n"
     ]
    },
    {
     "data": {
      "image/png": "[encoded data removed]",
      "text/plain": [
       "<matplotlib.figure.Figure at 0x120383278>"
      ]
     },
     "metadata": {},
     "output_type": "display_data"
    }
   ],
   "source": [
    "import numpy as np\n",
    "import matplotlib.pyplot as plt\n",
    "learning_rate = 0.0001\n",
    "training_epochs = 1000\n",
    "display_step = 50\n",
    "\n",
    "n_samples = len(arr1)\n",
    "rangee = np.random\n",
    "X = tf.placeholder(\"float\")\n",
    "Y = tf.placeholder(\"float\")\n",
    "\n",
    "# Set model weights\n",
    "W = tf.Variable(rangee.randn(), name=\"weight\")\n",
    "b = tf.Variable(rangee.randn(), name=\"bias\")\n",
    "\n",
    "# Construct a linear model\n",
    "pred = tf.add(tf.multiply(X, W), b)\n",
    "\n",
    "\n",
    "# Mean squared error\n",
    "cost = tf.reduce_sum(tf.pow(pred-Y, 2))/(2*n_samples)\n",
    "# Gradient descent\n",
    "optimizer = tf.train.GradientDescentOptimizer(learning_rate).minimize(cost)\n",
    "\n",
    "# Initializing the variables\n",
    "init = tf.global_variables_initializer()\n",
    "\n",
    "# Launch the graph\n",
    "with tf.Session() as sess:\n",
    "    sess.run(init)\n",
    "\n",
    "    # Fit all training data\n",
    "    for epoch in range(training_epochs):\n",
    "        for (p, r) in zip(arr1, arr2):\n",
    "            sess.run(optimizer, feed_dict={X: p, Y: r})\n",
    "\n",
    "        # Display logs per epoch step\n",
    "        if (epoch+1) % display_step == 0:\n",
    "            c = sess.run(cost, feed_dict={X: arr1, Y: arr2})\n",
    "            print(\"Epoch:\", '%04d' % (epoch+1), \"cost=\", \"{:.9f}\".format(c), \\\n",
    "                \"W=\", sess.run(W), \"b=\", sess.run(b))\n",
    "\n",
    "    print(\"Optimization Finished!\")\n",
    "    training_cost = sess.run(cost, feed_dict={X: arr1, Y: arr2})\n",
    "    print(\"Training cost=\", training_cost, \"W=\", sess.run(W), \"b=\", sess.run(b), '\\n')\n",
    "\n",
    "    # Graphic display\n",
    "    plt.plot(arr1, arr2, 'ro', label='Original data')\n",
    "    plt.plot(arr1, sess.run(W) * arr1 + sess.run(b), label='Fitted line')\n",
    "    plt.legend()\n",
    "    plt.show()"
   ]
  },
  {
   "cell_type": "code",
   "execution_count": null,
   "metadata": {
    "collapsed": true
   },
   "outputs": [],
   "source": []
  }
 ],
 "metadata": {
  "kernelspec": {
   "display_name": "Python 3",
   "language": "python",
   "name": "python3"
  },
  "language_info": {
   "codemirror_mode": {
    "name": "ipython",
    "version": 3
   },
   "file_extension": ".py",
   "mimetype": "text/x-python",
   "name": "python",
   "nbconvert_exporter": "python",
   "pygments_lexer": "ipython3",
   "version": "3.6.1"
  }
 },
 "nbformat": 4,
 "nbformat_minor": 2
}
